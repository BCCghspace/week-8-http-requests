{
 "cells": [
  {
   "cell_type": "markdown",
   "metadata": {},
   "source": [
    "# Lab 8 - Oct 22, 2020\n",
    "\n",
    "## Getting Setup\n",
    "\n",
    "1. Clone this repository, open in GitHub Desktop, download the repository (whatever workflow you prefer)\n",
    "2. Open your terminal/Anaconda Prompt and change directory to where you have this repository\n",
    "3. Activate the class environment: `conda activate musa509week6`\n",
    "4. Start up Jupyter Lab: `jupyter lab`\n",
    "5. Open the `Lab.ipynb` notebook\n",
    "\n",
    "## Outline\n",
    "\n",
    "* API review\n",
    "* Anatomy of an API request\n",
    "* Explore some APIs\n",
    "  * MapBox Geocoding API\n",
    "  * MapBox Directions API\n",
    "  * MapBox Static Maps API\n",
    "* Creating re-usable functions\n",
    "\n",
    "## APIs\n",
    "\n",
    "**What is an API?**\n",
    "\n",
    "> An API is an application programming interface. __It is a set of rules that allow programs to talk to each other__. The developer creates the API on the server and allows the client to talk to it.\n",
    "\n",
    "> REST determines how the API looks like. It stands for “Representational State Transfer”. It is a set of rules that developers follow when they create their API. One of these rules states that you should be able to get a piece of data (called a resource) when you link to a specific URL.\n",
    "\n",
    "> Each URL is called a **request** while the data sent back to you is called a **response**.\n",
    "  \n",
    "\n",
    "## Anatomy of an API request\n",
    "\n",
    "`https://api.mapbox.com/geocoding/v5/mapbox.places/{address}.json?access_token=abcdefg`\n",
    "\n",
    "* `http://` -> protocol\n",
    "* `api.mapbox.com` -> the domain\n",
    "* `/geocoding/v5/mapbox.places/{address}.json` -> the path\n",
    "* `?access_token=abcdefg` -> query string\n"
   ]
  },
  {
   "cell_type": "markdown",
   "metadata": {},
   "source": [
    "## Import Python `requests`\n",
    "\n",
    "`requests` is a Python library for performing HTTP requests.\n",
    "\n",
    "`requests` documentation: <https://requests.readthedocs.io/en/master/>"
   ]
  },
  {
   "cell_type": "code",
   "execution_count": 5,
   "metadata": {},
   "outputs": [
    {
     "ename": "ModuleNotFoundError",
     "evalue": "No module named 'cartoframes'",
     "output_type": "error",
     "traceback": [
      "\u001b[1;31m---------------------------------------------------------------------------\u001b[0m",
      "\u001b[1;31mModuleNotFoundError\u001b[0m                       Traceback (most recent call last)",
      "\u001b[1;32m<ipython-input-5-4e97b809de0a>\u001b[0m in \u001b[0;36m<module>\u001b[1;34m\u001b[0m\n\u001b[0;32m      1\u001b[0m \u001b[1;32mimport\u001b[0m \u001b[0mjson\u001b[0m\u001b[1;33m\u001b[0m\u001b[1;33m\u001b[0m\u001b[0m\n\u001b[0;32m      2\u001b[0m \u001b[1;32mimport\u001b[0m \u001b[0mrequests\u001b[0m\u001b[1;33m\u001b[0m\u001b[1;33m\u001b[0m\u001b[0m\n\u001b[1;32m----> 3\u001b[1;33m \u001b[1;32mfrom\u001b[0m \u001b[0mcartoframes\u001b[0m\u001b[1;33m.\u001b[0m\u001b[0mviz\u001b[0m \u001b[1;32mimport\u001b[0m \u001b[0mLayer\u001b[0m\u001b[1;33m,\u001b[0m \u001b[0mMap\u001b[0m\u001b[1;33m,\u001b[0m \u001b[0mcolor_category_style\u001b[0m\u001b[1;33m,\u001b[0m \u001b[0mpopup_element\u001b[0m\u001b[1;33m\u001b[0m\u001b[1;33m\u001b[0m\u001b[0m\n\u001b[0m\u001b[0;32m      4\u001b[0m \u001b[1;32mimport\u001b[0m \u001b[0mgeopandas\u001b[0m \u001b[1;32mas\u001b[0m \u001b[0mgpd\u001b[0m\u001b[1;33m\u001b[0m\u001b[1;33m\u001b[0m\u001b[0m\n\u001b[0;32m      5\u001b[0m \u001b[1;33m\u001b[0m\u001b[0m\n",
      "\u001b[1;31mModuleNotFoundError\u001b[0m: No module named 'cartoframes'"
     ]
    }
   ],
   "source": [
    "import json\n",
    "import requests\n",
    "from cartoframes.viz import Layer, Map, color_category_style, popup_element\n",
    "import geopandas as gpd\n",
    "\n",
    "# Download this file from: https://canvas.upenn.edu/courses/1533813/files/90068242/download?download_frd=1\n",
    "# place it in the same directory you are running your notebook from\n",
    "with open(\"mapbox_token.json\") as token_json:\n",
    "    MAPBOX_TOKEN = json.load(token_json)[\"token\"]\n",
    "\n",
    "# We'll use this later for interactive maps\n",
    "basemap = {\"style\": \"mapbox://styles/mapbox/streets-v11\", \"token\": MAPBOX_TOKEN}"
   ]
  },
  {
   "cell_type": "markdown",
   "metadata": {},
   "source": [
    "## Mapbox (Forward) Geocoding\n",
    "\n",
    "* Documentation: <https://docs.mapbox.com/api/search/#forward-geocoding>\n",
    "* Request: `GET /geocoding/v5/mapbox.places/{search_text}.json`\n",
    "* `search_text` is an address, place name, etc.\n",
    "\n",
    "**Given an address, what are the lng/lats?**"
   ]
  },
  {
   "cell_type": "code",
   "execution_count": 6,
   "metadata": {},
   "outputs": [
    {
     "ename": "NameError",
     "evalue": "name 'MAPBOX_TOKEN' is not defined",
     "output_type": "error",
     "traceback": [
      "\u001b[1;31m---------------------------------------------------------------------------\u001b[0m",
      "\u001b[1;31mNameError\u001b[0m                                 Traceback (most recent call last)",
      "\u001b[1;32m<ipython-input-6-e95bd5ae7449>\u001b[0m in \u001b[0;36m<module>\u001b[1;34m\u001b[0m\n\u001b[0;32m      1\u001b[0m \u001b[0maddress\u001b[0m \u001b[1;33m=\u001b[0m \u001b[1;34m\"210 South 34th Street Philadelphia PA, 19104\"\u001b[0m\u001b[1;33m\u001b[0m\u001b[1;33m\u001b[0m\u001b[0m\n\u001b[0;32m      2\u001b[0m \u001b[1;33m\u001b[0m\u001b[0m\n\u001b[1;32m----> 3\u001b[1;33m \u001b[0mgeocoding_call\u001b[0m \u001b[1;33m=\u001b[0m \u001b[1;34mf\"https://api.mapbox.com/geocoding/v5/mapbox.places/{address}.json?access_token={MAPBOX_TOKEN}\"\u001b[0m\u001b[1;33m\u001b[0m\u001b[1;33m\u001b[0m\u001b[0m\n\u001b[0m\u001b[0;32m      4\u001b[0m \u001b[0mresp\u001b[0m \u001b[1;33m=\u001b[0m \u001b[0mrequests\u001b[0m\u001b[1;33m.\u001b[0m\u001b[0mget\u001b[0m\u001b[1;33m(\u001b[0m\u001b[0mgeocoding_call\u001b[0m\u001b[1;33m)\u001b[0m\u001b[1;33m\u001b[0m\u001b[1;33m\u001b[0m\u001b[0m\n\u001b[0;32m      5\u001b[0m \u001b[0mresp\u001b[0m\u001b[1;33m.\u001b[0m\u001b[0mjson\u001b[0m\u001b[1;33m(\u001b[0m\u001b[1;33m)\u001b[0m\u001b[1;33m\u001b[0m\u001b[1;33m\u001b[0m\u001b[0m\n",
      "\u001b[1;31mNameError\u001b[0m: name 'MAPBOX_TOKEN' is not defined"
     ]
    }
   ],
   "source": [
    "address = \"210 South 34th Street Philadelphia PA, 19104\"\n",
    "\n",
    "geocoding_call = f\"https://api.mapbox.com/geocoding/v5/mapbox.places/{address}.json?access_token={MAPBOX_TOKEN}\"\n",
    "resp = requests.get(geocoding_call)\n",
    "resp.json()"
   ]
  },
  {
   "cell_type": "markdown",
   "metadata": {},
   "source": [
    "Notice all of the information returned here"
   ]
  },
  {
   "cell_type": "code",
   "execution_count": null,
   "metadata": {},
   "outputs": [],
   "source": [
    "resp.json()[\"features\"][0]"
   ]
  },
  {
   "cell_type": "markdown",
   "metadata": {},
   "source": [
    "### Let's turn this into a dataframe for easier viewing\n",
    "\n",
    "`resp.json()` is a GeoJSON object, so we can create a GeoDataFrame from it."
   ]
  },
  {
   "cell_type": "code",
   "execution_count": null,
   "metadata": {},
   "outputs": [],
   "source": [
    "geocoding_results = gpd.GeoDataFrame.from_features(resp.json())\n",
    "geocoding_results"
   ]
  },
  {
   "cell_type": "code",
   "execution_count": null,
   "metadata": {},
   "outputs": [],
   "source": [
    "Map(Layer(geocoding_results, color_category_style(\"accuracy\")), basemap=basemap)"
   ]
  },
  {
   "cell_type": "markdown",
   "metadata": {},
   "source": [
    "## How would you turn the geocoding code above into a function?\n",
    "\n",
    "What would be the inputs/outputs?\n",
    "\n",
    "```python\n",
    "def function_name(arg1, arg2):\n",
    "    ... some code happens here ...\n",
    "    return result\n",
    "```"
   ]
  },
  {
   "cell_type": "code",
   "execution_count": null,
   "metadata": {},
   "outputs": [],
   "source": [
    "# write a function for geocoding here"
   ]
  },
  {
   "cell_type": "markdown",
   "metadata": {},
   "source": [
    "## (Forward) Geocoding with Place Names\n",
    "\n",
    "Mapbox Geocoding API will return lng/lats if you give it place names."
   ]
  },
  {
   "cell_type": "code",
   "execution_count": null,
   "metadata": {},
   "outputs": [],
   "source": [
    "place_name = \"Meyerson Hall, University of Pennsylvania\"\n",
    "\n",
    "geocoding_call = f\"https://api.mapbox.com/geocoding/v5/mapbox.places/{place_name}.json?access_token={MAPBOX_TOKEN}\"\n",
    "resp = requests.get(geocoding_call)\n",
    "resp.json()"
   ]
  },
  {
   "cell_type": "code",
   "execution_count": null,
   "metadata": {},
   "outputs": [],
   "source": [
    "places = gpd.GeoDataFrame.from_features(resp.json())\n",
    "places"
   ]
  },
  {
   "cell_type": "code",
   "execution_count": null,
   "metadata": {},
   "outputs": [],
   "source": [
    "Map(Layer(places), basemap=basemap)"
   ]
  },
  {
   "cell_type": "markdown",
   "metadata": {},
   "source": [
    "## Mapbox Reverse Geocoding\n",
    "\n",
    "Reverse Geocoding is turning a lng/lat pair into an address or location description.\n",
    "\n",
    "Given `(-73.989,40.733)` what is at that location?"
   ]
  },
  {
   "cell_type": "code",
   "execution_count": null,
   "metadata": {},
   "outputs": [],
   "source": [
    "# Retrieve places near a specific location\n",
    "\n",
    "# let's use the HTTP query parameters as a dictionary\n",
    "geocode_params = {\"access_token\": MAPBOX_TOKEN}\n",
    "lng = -73.989\n",
    "lat = 40.733\n",
    "\n",
    "resp = requests.get(\n",
    "    f\"https://api.mapbox.com/geocoding/v5/mapbox.places/{lng},{lat}.json\",\n",
    "    params=geocode_params,\n",
    ")\n",
    "resp.json()"
   ]
  },
  {
   "cell_type": "markdown",
   "metadata": {},
   "source": [
    "## Let's visualize the results of this API response\n",
    "\n",
    "There are three things I see to visualize:\n",
    "\n",
    "1. The original lng/lat point\n",
    "2. The point places returned\n",
    "3. The bounding boxes of the places\n",
    "\n",
    "Let's put them all on a map together"
   ]
  },
  {
   "cell_type": "markdown",
   "metadata": {},
   "source": [
    "#### 1. Original lng/lat"
   ]
  },
  {
   "cell_type": "code",
   "execution_count": null,
   "metadata": {},
   "outputs": [],
   "source": [
    "original_point = gpd.GeoDataFrame(\n",
    "    geometry=gpd.points_from_xy(\n",
    "        [lng],\n",
    "        [lat],\n",
    "    )\n",
    ")"
   ]
  },
  {
   "cell_type": "markdown",
   "metadata": {},
   "source": [
    "#### 2. Reverse geocoding points"
   ]
  },
  {
   "cell_type": "code",
   "execution_count": null,
   "metadata": {},
   "outputs": [],
   "source": [
    "rev_geocoding = gpd.GeoDataFrame.from_features(resp.json())\n",
    "rev_geocoding[\"place_name\"] = [row[\"place_name\"] for row in resp.json()[\"features\"]]\n",
    "rev_geocoding[\"place_text\"] = [row[\"text\"] for row in resp.json()[\"features\"]]\n",
    "rev_geocoding"
   ]
  },
  {
   "cell_type": "markdown",
   "metadata": {},
   "source": [
    "#### 3. Bounding Boxes"
   ]
  },
  {
   "cell_type": "code",
   "execution_count": null,
   "metadata": {},
   "outputs": [],
   "source": [
    "from shapely.geometry import box\n",
    "\n",
    "bboxes = [\n",
    "    box(*row.get(\"bbox\", [lng, lat, lng, lat])) for row in resp.json()[\"features\"]\n",
    "]\n",
    "bboxes = gpd.GeoDataFrame(geometry=bboxes)\n",
    "bboxes[\"place_text\"] = [row[\"text\"] for row in resp.json()[\"features\"]]"
   ]
  },
  {
   "cell_type": "markdown",
   "metadata": {},
   "source": [
    "#### Map"
   ]
  },
  {
   "cell_type": "code",
   "execution_count": null,
   "metadata": {},
   "outputs": [],
   "source": [
    "Map(\n",
    "    [\n",
    "        Layer(\n",
    "            bboxes,\n",
    "            \"color: transparent strokeWidth: 2 strokeColor: #FF00FF\",\n",
    "            popup_hover=popup_element(\"place_text\"),\n",
    "        ),\n",
    "        Layer(\n",
    "            rev_geocoding,\n",
    "            \"width: 10 color: transparent strokeWidth: 2 strokeColor: cyan\",\n",
    "        ),\n",
    "        Layer(original_point, \"color: yellow\"),\n",
    "    ],\n",
    "    basemap=basemap,\n",
    ")"
   ]
  },
  {
   "cell_type": "markdown",
   "metadata": {},
   "source": [
    "### How would you return the reverse geocoding code into a function?\n",
    "\n",
    "1. What are the intputs?\n",
    "2. What would you want to return?"
   ]
  },
  {
   "cell_type": "code",
   "execution_count": null,
   "metadata": {},
   "outputs": [],
   "source": [
    "# write your reverse geocoding function here"
   ]
  },
  {
   "cell_type": "markdown",
   "metadata": {},
   "source": [
    "### Directions API\n",
    "\n",
    "* Documentation: <https://docs.mapbox.com/api/navigation/#directions>\n",
    "* Playground: <https://docs.mapbox.com/playground/directions/>"
   ]
  },
  {
   "cell_type": "code",
   "execution_count": null,
   "metadata": {},
   "outputs": [],
   "source": [
    "directions_params = {\n",
    "    \"alternatives\": \"true\",\n",
    "    \"geometries\": \"geojson\",\n",
    "    \"steps\": \"false\",\n",
    "    \"access_token\": MAPBOX_TOKEN,\n",
    "}\n",
    "\n",
    "start_lng = -73.96960354605999\n",
    "start_lat = 40.8012032714376\n",
    "\n",
    "end_lng = -73.93668699879295\n",
    "end_lat = 40.70429504558561\n",
    "\n",
    "\n",
    "directions_resp = requests.get(\n",
    "    f\"https://api.mapbox.com/directions/v5/mapbox/cycling/{start_lng},{start_lat};{end_lng},{end_lat}\",\n",
    "    params=directions_params,\n",
    ")\n",
    "directions_resp.json()"
   ]
  },
  {
   "cell_type": "code",
   "execution_count": null,
   "metadata": {},
   "outputs": [],
   "source": [
    "from cartoframes.viz import color_category_style\n",
    "from shapely.geometry import shape\n",
    "\n",
    "route = gpd.GeoDataFrame(\n",
    "    {\n",
    "        \"route_option\": [\n",
    "            str(idx) for idx in range(len(directions_resp.json()[\"routes\"]))\n",
    "        ]\n",
    "    },\n",
    "    geometry=[\n",
    "        shape(directions_resp.json()[\"routes\"][idx][\"geometry\"])\n",
    "        for idx in range(len(directions_resp.json()[\"routes\"]))\n",
    "    ],\n",
    ")\n",
    "\n",
    "Map(Layer(route, color_category_style(\"route_option\")), basemap=basemap)"
   ]
  },
  {
   "cell_type": "markdown",
   "metadata": {},
   "source": [
    "### How would you turn Directions API into a re-usable function?"
   ]
  },
  {
   "cell_type": "markdown",
   "metadata": {},
   "source": [
    "### Mapbox Static Images API\n",
    "\n",
    "* Documentation: <https://docs.mapbox.com/api/maps/#static-images>.\n",
    "* Sandbox tool: <https://docs.mapbox.com/playground/static/>"
   ]
  },
  {
   "cell_type": "code",
   "execution_count": null,
   "metadata": {},
   "outputs": [],
   "source": [
    "static_params = {\"access_token\": MAPBOX_TOKEN}\n",
    "\n",
    "static_map_resp = requests.get(\n",
    "    f\"https://api.mapbox.com/styles/v1/mapbox/streets-v11/static/{start_lng},{start_lat},10.95,0/800x800\",\n",
    "    params=static_params,\n",
    ")"
   ]
  },
  {
   "cell_type": "code",
   "execution_count": null,
   "metadata": {},
   "outputs": [],
   "source": [
    "from IPython import display\n",
    "\n",
    "display.Image(static_map_resp.content)"
   ]
  },
  {
   "cell_type": "markdown",
   "metadata": {},
   "source": [
    "### Displaying a route on a map\n",
    "\n",
    "Using the overlay options, we can display a route from the directions API on the map.\n",
    "\n",
    "First we need to turn the route into a GeoJSON string.\n",
    "Next, we need to insert it into the API request\n",
    "\n",
    "`GET /styles/v1/mapbox/streets-v11/static/geojson({geojson_string})/{lng},{lat},{zoom}/{width}x{height}`"
   ]
  },
  {
   "cell_type": "code",
   "execution_count": null,
   "metadata": {},
   "outputs": [],
   "source": [
    "route.iloc[:1]"
   ]
  },
  {
   "cell_type": "code",
   "execution_count": null,
   "metadata": {},
   "outputs": [],
   "source": [
    "geojson_str = route.iloc[:1].to_json()\n",
    "geojson_str"
   ]
  },
  {
   "cell_type": "code",
   "execution_count": null,
   "metadata": {},
   "outputs": [],
   "source": [
    "static_params = {\"access_token\": MAPBOX_TOKEN}\n",
    "\n",
    "static_map_resp = requests.get(\n",
    "    f\"https://api.mapbox.com/styles/v1/mapbox/streets-v11/static/geojson({geojson_str})/{start_lng},{start_lat},10.95,0/800x800\",\n",
    "    params=static_params,\n",
    ")"
   ]
  },
  {
   "cell_type": "code",
   "execution_count": null,
   "metadata": {},
   "outputs": [],
   "source": [
    "from IPython import display\n",
    "\n",
    "display.Image(static_map_resp.content)"
   ]
  }
 ],
 "metadata": {
  "kernelspec": {
   "display_name": "Python 3",
   "language": "python",
   "name": "python3"
  },
  "language_info": {
   "codemirror_mode": {
    "name": "ipython",
    "version": 3
   },
   "file_extension": ".py",
   "mimetype": "text/x-python",
   "name": "python",
   "nbconvert_exporter": "python",
   "pygments_lexer": "ipython3",
   "version": "3.8.5"
  }
 },
 "nbformat": 4,
 "nbformat_minor": 4
}
